{
 "cells": [
  {
   "cell_type": "code",
   "execution_count": 1,
   "metadata": {
    "collapsed": true
   },
   "outputs": [],
   "source": [
    "# This should be set by Pyspark\n",
    "from pyspark.sql import SparkSession\n",
    "spark = SparkSession.builder.config(\"spark.ui.enabled\", False).getOrCreate()"
   ]
  },
  {
   "cell_type": "code",
   "execution_count": 2,
   "outputs": [],
   "source": [
    "# Initialise test environment\n",
    "from dapla.magics import DaplaDocumentationMagics\n",
    "from dapla.magics import DaplaLineageMagics\n",
    "from IPython import get_ipython\n",
    "ipython = get_ipython()\n",
    "\n",
    "# Provide a mock template from attached json file\n",
    "import json\n",
    "def doc_template_mock(ds, use_simple, path):\n",
    "    with open('doc_template_with_smart_match.json', 'r') as f:\n",
    "        return json.load(f)\n",
    "\n",
    "def doc_template_candidates_mock(type):\n",
    "    if type == \"unitType\":\n",
    "        return [\n",
    "           {\n",
    "               'id': 'id-1',\n",
    "               'name': 'Test 1'\n",
    "           },\n",
    "           {\n",
    "               'id': 'UnitType_DUMMY',\n",
    "               'name': 'Test 2'\n",
    "           }\n",
    "       ]\n",
    "    if type == \"representedVariable\":\n",
    "        return [\n",
    "           {\n",
    "               'id': 'RepresentedVariable_DUMMY',\n",
    "               'name': 'Test 1'\n",
    "           },\n",
    "           {\n",
    "               'id': 'id-2',\n",
    "               'name': 'Test 2'\n",
    "           },\n",
    "           {\n",
    "               'id': 'some-id-could-be-guid',\n",
    "               'name': 'All families 2018'\n",
    "           }\n",
    "       ]\n",
    "    if type == \"population\":\n",
    "        return [\n",
    "           {\n",
    "               'id': 'Population_DUMMY',\n",
    "               'name': 'Test 1'\n",
    "           },\n",
    "           {\n",
    "               'id': 'id-2',\n",
    "               'name': 'Test 2'\n",
    "           }\n",
    "       ]\n",
    "    if type == \"sentinelValueDomain\":\n",
    "        return [\n",
    "           {\n",
    "               'id': 'EnumeratedValueDomain_DUMMY-id',\n",
    "               'name': 'EnumeratedValueDomain Test 1'\n",
    "           },\n",
    "           {\n",
    "               'id': 'DescribedValueDomain-id1',\n",
    "               'name': 'DescribedValueDomain Test 2'\n",
    "           },\n",
    "           {\n",
    "               'id': 'DescribedValueDomain_DUMMY-id',\n",
    "               'name': 'DescribedValueDomain DUMMY'\n",
    "           }\n",
    "       ]\n",
    "\n",
    "    return []\n",
    "\n",
    "def doc_enums_mock(enumType):\n",
    "        if enumType == \"dataStructureComponentType\":\n",
    "            return {\n",
    "                \"START_TIME\": \"START_TID\",\n",
    "                \"ATTRIBUTE\": \"EGENSKAP\",\n",
    "                \"MEASURE\": \"MÅL\",\n",
    "                \"IDENTIFIER\": \"IDENTIFIKASJON\",\n",
    "                \"STOP_TIME\": \"STOP_TID\"\n",
    "            }\n",
    "        if enumType == \"valuation\":\n",
    "            return {\n",
    "                \"tec-SENSITIVE\":\"SENSITIVE\" ,\n",
    "                \"tec-SHIELDED\": \"SHIELDED, \",\n",
    "                \"tec-INTERNAL\": \"INTERNAL\",\n",
    "                \"tec-OPEN\": \"OPEN\"\n",
    "            }\n",
    "\n",
    "def doc_translation_mock(concept_type):\n",
    "        if concept_type == \"RepresentedVariable\":\n",
    "            return {\n",
    "                \"name\": \"Representert variabel\",\n",
    "                \"description\": \"Beskrivelse av representert variabel\"\n",
    "            }\n",
    "        return {\"name\": concept_type}\n",
    "\n",
    "\n",
    "# Register dapla magics manually\n",
    "magics_doc = DaplaDocumentationMagics(ipython, doc_template_mock, doc_template_candidates_mock, doc_enums_mock, doc_translation_mock)\n",
    "magics_lineage = DaplaLineageMagics(ipython, doc_template_candidates_mock)\n",
    "ipython.register_magics(magics_doc)\n",
    "ipython.register_magics(magics_lineage)"
   ],
   "metadata": {
    "collapsed": false,
    "pycharm": {
     "name": "#%%\n"
    }
   }
  },
  {
   "cell_type": "code",
   "execution_count": 3,
   "outputs": [],
   "source": [
    "# Create a test dataframe\n",
    "from pyspark.sql.types import *\n",
    "konto_type = StructType([\n",
    "    StructField('kontonummer', StringType()),\n",
    "    StructField('innskudd', IntegerType()),\n",
    "    StructField('gjeld', IntegerType())])\n",
    "konto_data = [\n",
    "    ('12345555', 25000, 0),\n",
    "    ('12347777', 120000, 500),\n",
    "]\n",
    "\n",
    "konto = spark.createDataFrame(konto_data, konto_type)"
   ],
   "metadata": {
    "collapsed": false,
    "pycharm": {
     "name": "#%%\n"
    }
   }
  },
  {
   "cell_type": "code",
   "execution_count": 4,
   "outputs": [],
   "source": [
    "%%output\n",
    "/skatt/konto"
   ],
   "metadata": {
    "collapsed": false,
    "pycharm": {
     "name": "#%%\n"
    }
   }
  },
  {
   "cell_type": "code",
   "execution_count": 5,
   "outputs": [
    {
     "data": {
      "text/plain": "VBox(children=(HTML(value='<b style=\"font-size:14px\">Dataset metadata</b>'), Box(children=(Box(children=(Label…",
      "application/vnd.jupyter.widget-view+json": {
       "version_major": 2,
       "version_minor": 0,
       "model_id": "7ede56c57ac74008845c1083e7cfe3cf"
      }
     },
     "metadata": {},
     "output_type": "display_data"
    }
   ],
   "source": [
    "# Now run the magic\n",
    "%document --nofile konto"
   ],
   "metadata": {
    "collapsed": false,
    "pycharm": {
     "name": "#%%\n"
    }
   }
  },
  {
   "cell_type": "code",
   "execution_count": 6,
   "outputs": [
    {
     "data": {
      "text/plain": "HTML(value='<b>Kontonummer</b> <i>smart</i>')",
      "application/vnd.jupyter.widget-view+json": {
       "version_major": 2,
       "version_minor": 0,
       "model_id": "5c1f349f710e41baa2ec13058b3c1dc3"
      }
     },
     "metadata": {},
     "output_type": "display_data"
    },
    {
     "data": {
      "text/plain": "HTML(value='<b>Innskudd</b> <i>not selected</i>')",
      "application/vnd.jupyter.widget-view+json": {
       "version_major": 2,
       "version_minor": 0,
       "model_id": "728b1a72220c4ca4aa3d1af62c2b5183"
      }
     },
     "metadata": {},
     "output_type": "display_data"
    },
    {
     "data": {
      "text/plain": "HTML(value='<b>Gjeld</b> <i>ok</i>')",
      "application/vnd.jupyter.widget-view+json": {
       "version_major": 2,
       "version_minor": 0,
       "model_id": "60245237ad47418b8b03d32fd50a0d09"
      }
     },
     "metadata": {},
     "output_type": "display_data"
    }
   ],
   "source": [
    "%validate konto"
   ],
   "metadata": {
    "collapsed": false,
    "pycharm": {
     "name": "#%%\n"
    }
   }
  },
  {
   "cell_type": "code",
   "execution_count": 7,
   "outputs": [
    {
     "data": {
      "text/plain": "{'name': 'konto datasett demo',\n 'description': 'Inneholder kontoer av forskjellig art.',\n 'unitType': {'concept-type': 'UnitType',\n  'selected-id': 'UnitType_DUMMY',\n  'candidates': [{'id': 'id-1', 'name': 'Test 1'},\n   {'id': 'UnitType_DUMMY', 'name': 'Test 2'}]},\n 'instanceVariables': [{'name': 'kontonummer',\n   'description': '',\n   'smart-description': 'smart-description',\n   'dataStructureComponentType': {'selected-enum': 'IDENTIFIER',\n    'smart-enum': 'IDENTIFIER',\n    'enums': True},\n   'valuation': {'selected-enum': '', 'enums': True},\n   'population': {'concept-type': 'Population',\n    'selected-id': 'Population_DUMMY',\n    'smart-match-id': 'Population_DUMMY',\n    'candidates': [{'id': 'Population_DUMMY', 'name': 'Test 1'},\n     {'id': 'id-2', 'name': 'Test 2'}]},\n   'representedVariable': {'concept-type': 'RepresentedVariable',\n    'selected-id': 'id-2',\n    'smart-match-id': 'id-2',\n    'candidates': [{'id': 'RepresentedVariable_DUMMY', 'name': 'Test 1'},\n     {'id': 'id-2', 'name': 'Test 2'},\n     {'id': 'some-id-could-be-guid', 'name': 'All families 2018'}]},\n   'sentinelValueDomain': {'concept-type': 'EnumeratedValueDomain,DescribedValueDomain',\n    'selected-id': 'EnumeratedValueDomain_DUMMY-id',\n    'smart-match-id': 'EnumeratedValueDomain_DUMMY-id',\n    'candidates': [{'id': 'EnumeratedValueDomain_DUMMY-id',\n      'name': 'EnumeratedValueDomain Test 1'},\n     {'id': 'DescribedValueDomain-id1', 'name': 'DescribedValueDomain Test 2'},\n     {'id': 'DescribedValueDomain_DUMMY-id',\n      'name': 'DescribedValueDomain DUMMY'}]}},\n  {'name': 'innskudd',\n   'description': '',\n   'dataStructureComponentType': {'selected-enum': '', 'enums': True},\n   'population': {'concept-type': 'Population',\n    'selected-id': 'please-select',\n    'candidates': [{'id': 'please-select', 'name': 'please select'},\n     {'id': 'Population_DUMMY', 'name': 'Test 1'},\n     {'id': 'id-2', 'name': 'Test 2'}]},\n   'representedVariable': {'concept-type': 'RepresentedVariable',\n    'selected-id': 'please-select',\n    'candidates': [{'id': 'please-select', 'name': 'please select'},\n     {'id': 'RepresentedVariable_DUMMY', 'name': 'Test 1'},\n     {'id': 'id-2', 'name': 'Test 2'},\n     {'id': 'some-id-could-be-guid', 'name': 'All families 2018'}]},\n   'sentinelValueDomain': {'concept-type': 'EnumeratedValueDomain,DescribedValueDomain',\n    'selected-id': 'please-select',\n    'candidates': [{'id': 'please-select', 'name': 'please select'},\n     {'id': 'EnumeratedValueDomain_DUMMY-id',\n      'name': 'EnumeratedValueDomain Test 1'},\n     {'id': 'DescribedValueDomain-id1', 'name': 'DescribedValueDomain Test 2'},\n     {'id': 'DescribedValueDomain_DUMMY-id',\n      'name': 'DescribedValueDomain DUMMY'}]}},\n  {'name': 'gjeld',\n   'description': 'en sum av penger i hele kroner brukt i en kontekst. Dette kan være en transaksjon, saldo o.l.',\n   'dataStructureComponentType': {'selected-enum': 'MEASURE', 'enums': True},\n   'population': {'concept-type': 'Population',\n    'selected-id': 'Population_DUMMY',\n    'candidates': [{'id': 'Population_DUMMY', 'name': 'Test 1'},\n     {'id': 'id-2', 'name': 'Test 2'}]},\n   'representedVariable': {'concept-type': 'RepresentedVariable',\n    'selected-id': 'RepresentedVariable_DUMMY',\n    'candidates': [{'id': 'RepresentedVariable_DUMMY', 'name': 'Test 1'},\n     {'id': 'id-2', 'name': 'Test 2'},\n     {'id': 'some-id-could-be-guid', 'name': 'All families 2018'}]},\n   'sentinelValueDomain': {'concept-type': 'EnumeratedValueDomain,DescribedValueDomain',\n    'selected-id': 'EnumeratedValueDomain_DUMMY-id',\n    'candidates': [{'id': 'EnumeratedValueDomain_DUMMY-id',\n      'name': 'EnumeratedValueDomain Test 1'},\n     {'id': 'DescribedValueDomain-id1', 'name': 'DescribedValueDomain Test 2'},\n     {'id': 'DescribedValueDomain_DUMMY-id',\n      'name': 'DescribedValueDomain DUMMY'}]}}]}"
     },
     "execution_count": 7,
     "metadata": {},
     "output_type": "execute_result"
    }
   ],
   "source": [
    "konto.doc"
   ],
   "metadata": {
    "collapsed": false,
    "pycharm": {
     "name": "#%%\n"
    }
   }
  },
  {
   "cell_type": "code",
   "execution_count": null,
   "outputs": [],
   "source": [],
   "metadata": {
    "collapsed": false,
    "pycharm": {
     "name": "#%%\n"
    }
   }
  }
 ],
 "metadata": {
  "kernelspec": {
   "display_name": "Python 3",
   "language": "python",
   "name": "python3"
  },
  "language_info": {
   "codemirror_mode": {
    "name": "ipython",
    "version": 2
   },
   "file_extension": ".py",
   "mimetype": "text/x-python",
   "name": "python",
   "nbconvert_exporter": "python",
   "pygments_lexer": "ipython2",
   "version": "2.7.6"
  }
 },
 "nbformat": 4,
 "nbformat_minor": 0
}