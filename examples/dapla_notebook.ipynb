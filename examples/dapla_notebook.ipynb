{
 "cells": [],
 "metadata": {
  "kernelspec": {
   "name": "python3",
   "language": "python",
   "display_name": "Python 3"
  },
  "language_info": {
   "codemirror_mode": {
    "name": "ipython",
    "version": 3
   },
   "file_extension": ".py",
   "mimetype": "text/x-python",
   "name": "python",
   "nbconvert_exporter": "python",
   "pygments_lexer": "ipython3",
   "version": "3.7.6"
  },
  "pycharm": {
   "stem_cell": {
    "cell_type": "raw",
    "source": [
     "# Import module\n",
     "import dapla as dp\n",
     "\n",
     "# List paths by prefix\n",
     "dp.show('/user/python/')\n",
     "\n",
     "# Show file details about a specific path\n",
     "dp.details('/user/python/test1')\n",
     "\n",
     "# Read pandas dataframe from path\n",
     "dp.read_pandas('/user/python/test1')\n",
     "\n",
     "# Write dataframe to path\n",
     "dp.read_pandas(df, '/user/python/test1', valuation='INTERNAL', state='INPUT')\n",
     "\n"
    ],
    "metadata": {
     "collapsed": false
    }
   }
  }
 },
 "nbformat": 4,
 "nbformat_minor": 4
}