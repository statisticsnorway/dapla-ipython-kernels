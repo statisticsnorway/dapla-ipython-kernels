{
 "cells": [
  {
   "cell_type": "code",
   "execution_count": 1,
   "metadata": {},
   "outputs": [],
   "source": [
    "# This should be set by Pyspark\n",
    "from pyspark.sql import SparkSession\n",
    "spark = SparkSession.builder.config(\"spark.ui.enabled\", False).getOrCreate()"
   ]
  },
  {
   "cell_type": "code",
   "execution_count": 2,
   "metadata": {
    "pycharm": {
     "name": "#%%\n"
    }
   },
   "outputs": [],
   "source": [
    "# Initialise test environment\n",
    "from dapla.magics import DaplaLineageMagics\n",
    "from IPython import get_ipython\n",
    "ipython = get_ipython()\n",
    "import requests\n",
    "import json\n",
    "\n",
    "\n",
    "# Lineage template provider can either call a local endpoint or read from attached json file\n",
    "use_mock_response = True\n",
    "\n",
    "def lineage_template_provider(output_schema, input_schema_map):\n",
    "    def mapper(x):\n",
    "        return (x[0], {\n",
    "            \"schema\": x[1]['schema'],\n",
    "            \"schemaType\": \"SPARK\",\n",
    "            \"timestamp\": x[1]['timestamp'],\n",
    "        })\n",
    "    request = {\n",
    "        \"schema\": output_schema['schema'],\n",
    "        \"timestamp\": output_schema['timestamp'],\n",
    "        \"schemaType\": \"SPARK\",\n",
    "        \"simpleLineage\": False,\n",
    "        \"dependencies\": [dict(map(mapper, input_schema_map.items()))],\n",
    "    }\n",
    "    if use_mock_response:\n",
    "        with open('lineage-template.json', 'r') as f:\n",
    "            return json.load(f)\n",
    "    else:\n",
    "        response = requests.post('http://localhost:10190/lineage/template', json=request,\n",
    "                                 headers={\n",
    "                                 }, allow_redirects=False)\n",
    "        return response.json()\n",
    "    \n",
    "# Register dapla magics manually\n",
    "magics = DaplaLineageMagics(ipython, lineage_template_provider)\n",
    "ipython.register_magics(magics)"
   ]
  },
  {
   "cell_type": "code",
   "execution_count": 3,
   "metadata": {
    "pycharm": {
     "name": "#%%\n"
    }
   },
   "outputs": [],
   "source": [
    "from pyspark.sql.types import *\n",
    "\n",
    "# Create 3 test dataframe\n",
    "person_type = StructType([\n",
    "    StructField('personidentifikator', StringType()),\n",
    "    StructField('kontonummer', StringType())])\n",
    "person_data = [\n",
    "    ('1234', '12345555'),\n",
    "    ('1235', '12347777'),\n",
    "]\n",
    "person = spark.createDataFrame(person_data, person_type)\n",
    "\n",
    "unrelated_type = StructType([\n",
    "    StructField('weird', StringType()),\n",
    "    StructField('stuff', StringType())])\n",
    "unrelated = spark.createDataFrame([], unrelated_type)\n",
    "\n",
    "\n",
    "konto_type = StructType([\n",
    "    StructField('kontonummer', StringType()),\n",
    "    StructField('innskudd', IntegerType())])\n",
    "konto_data = [\n",
    "    ('12345555', 25000),\n",
    "    ('12347777', 120000),\n",
    "]\n",
    "konto = spark.createDataFrame(konto_data, konto_type)\n",
    "\n",
    "# Create a 3rd dataframe based on the other two\n",
    "innskudd = person.join(konto, 'kontonummer', how='inner')"
   ]
  },
  {
   "cell_type": "code",
   "execution_count": 4,
   "outputs": [],
   "source": [
    "%%input\n",
    "/skatt/person\n",
    "/skatt/konto\n",
    "/skatt/unrelated"
   ],
   "metadata": {
    "collapsed": false,
    "pycharm": {
     "name": "#%%\n"
    }
   }
  },
  {
   "cell_type": "code",
   "execution_count": 5,
   "outputs": [],
   "source": [
    "%%output\n",
    "/skatt/innskudd"
   ],
   "metadata": {
    "collapsed": false,
    "pycharm": {
     "name": "#%%\n"
    }
   }
  },
  {
   "cell_type": "code",
   "execution_count": 6,
   "metadata": {
    "pycharm": {
     "name": "#%%\n"
    }
   },
   "outputs": [],
   "source": [
    "# This will be done automatically by spark.read.path\n",
    "\n",
    "%on_input_load /skatt/person 1111 {person.schema.json()}\n",
    "%on_input_load /skatt/konto 1111 {konto.schema.json()}\n",
    "%on_input_load /skatt/unrelated 1111 {unrelated.schema.json()}"
   ]
  },
  {
   "cell_type": "code",
   "execution_count": 7,
   "metadata": {
    "pycharm": {
     "name": "#%%\n"
    }
   },
   "outputs": [],
   "source": [
    "# This will be done automatically by spark.write.path\n",
    "\n",
    "%on_output_save /skatt/innskudd 1111 {innskudd.schema.json()}"
   ]
  },
  {
   "cell_type": "code",
   "execution_count": 8,
   "metadata": {
    "pycharm": {
     "name": "#%%\n"
    }
   },
   "outputs": [
    {
     "name": "stdout",
     "output_type": "stream",
     "text": [
      "Input datasets:\n",
      " |-- /skatt/person (loaded)\n",
      " |-- /skatt/konto (loaded)\n",
      " |-- /skatt/unrelated (loaded)\n",
      "Output datasets:\n",
      " |-- /skatt/innskudd\n"
     ]
    }
   ],
   "source": [
    "# This is for debug purposes\n",
    "\n",
    "%lineage_tree"
   ]
  },
  {
   "cell_type": "code",
   "execution_count": 9,
   "metadata": {},
   "outputs": [
    {
     "data": {
      "text/plain": "VBox(children=(Accordion(children=(VBox(children=(HTML(value='<style>.widget-checkbox-label-bold > label > spa…",
      "application/vnd.jupyter.widget-view+json": {
       "version_major": 2,
       "version_minor": 0,
       "model_id": "f7a24081ccda4814a12478fd929e5252"
      }
     },
     "metadata": {},
     "output_type": "display_data"
    }
   ],
   "source": [
    "# Show GUI for mapping lineage fields\n",
    "\n",
    "%lineage innskudd"
   ]
  },
  {
   "cell_type": "code",
   "execution_count": 10,
   "metadata": {},
   "outputs": [
    {
     "data": {
      "text/plain": "{'lineage': {'name': 'spark_schema',\n  'type': 'structure',\n  'fields': [{'name': 'kontonummer',\n    'type': 'inherited',\n    'confidence': 0.9,\n    'sources': [{'field': 'kontonummer',\n      'path': '/skatt/person',\n      'version': 1600430243658},\n     {'field': 'kontonummer',\n      'path': '/skatt/konto',\n      'version': 1600430243658}]},\n   {'name': 'personidentifikator',\n    'type': 'inherited',\n    'confidence': 0.9,\n    'sources': [{'field': 'personidentifikator',\n      'path': '/skatt/person',\n      'version': 1600430243658}]},\n   {'name': 'innskudd',\n    'type': 'inherited',\n    'confidence': 0.9,\n    'sources': [{'field': 'innskudd',\n      'path': '/skatt/konto',\n      'version': 1600430243658}]}],\n  'sources': [{'path': '/skatt/person', 'version': 1600430243658},\n   {'path': '/skatt/konto', 'version': 1600430243658},\n   {'path': '/skatt/unrelated', 'version': 1600430243658}]}}"
     },
     "execution_count": 10,
     "metadata": {},
     "output_type": "execute_result"
    }
   ],
   "source": [
    "# This will be the lineage output from GUI\n",
    "\n",
    "innskudd.lineage"
   ]
  },
  {
   "cell_type": "code",
   "execution_count": 11,
   "metadata": {
    "pycharm": {
     "name": "#%%\n"
    }
   },
   "outputs": [
    {
     "data": {
      "text/plain": "{'lineage': {'name': 'spark_schema',\n  'type': 'structure',\n  'fields': [{'name': 'kontonummer',\n    'type': 'inherited',\n    'confidence': 0.9,\n    'sources': [{'field': 'kontonummer',\n      'path': '/skatt/person',\n      'version': 1600430243658},\n     {'field': 'kontonummer',\n      'path': '/skatt/konto',\n      'version': 1600430243658}]},\n   {'name': 'personidentifikator',\n    'type': 'inherited',\n    'confidence': 0.9,\n    'sources': [{'field': 'personidentifikator',\n      'path': '/skatt/person',\n      'version': 1600430243658}]},\n   {'name': 'innskudd',\n    'type': 'inherited',\n    'confidence': 0.9,\n    'sources': [{'field': 'innskudd',\n      'path': '/skatt/konto',\n      'version': 1600430243658}]}],\n  'sources': [{'path': '/skatt/person', 'version': 1600430243658},\n   {'path': '/skatt/konto', 'version': 1600430243658},\n   {'path': '/skatt/unrelated', 'version': 1600430243658}]}}"
     },
     "execution_count": 11,
     "metadata": {},
     "output_type": "execute_result"
    }
   ],
   "source": [
    "# Return simple lineage template by path\n",
    "\n",
    "%lineage_json --path /skatt/innskudd"
   ]
  },
  {
   "cell_type": "code",
   "execution_count": null,
   "outputs": [],
   "source": [],
   "metadata": {
    "collapsed": false,
    "pycharm": {
     "name": "#%%\n"
    }
   }
  }
 ],
 "metadata": {
  "kernelspec": {
   "display_name": "Python 3",
   "language": "python",
   "name": "python3"
  },
  "language_info": {
   "codemirror_mode": {
    "name": "ipython",
    "version": 3
   },
   "file_extension": ".py",
   "mimetype": "text/x-python",
   "name": "python",
   "nbconvert_exporter": "python",
   "pygments_lexer": "ipython3",
   "version": "3.8.5"
  }
 },
 "nbformat": 4,
 "nbformat_minor": 1
}