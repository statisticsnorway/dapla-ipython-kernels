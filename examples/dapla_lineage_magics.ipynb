{
 "cells": [
  {
   "cell_type": "code",
   "execution_count": 1,
   "metadata": {},
   "outputs": [],
   "source": [
    "# This should be set by Pyspark\n",
    "from pyspark.sql import SparkSession\n",
    "spark = SparkSession.builder.config(\"spark.ui.enabled\", False).getOrCreate()"
   ]
  },
  {
   "cell_type": "code",
   "execution_count": 2,
   "metadata": {
    "pycharm": {
     "name": "#%%\n"
    }
   },
   "outputs": [],
   "source": [
    "# Initialise test environment\n",
    "from dapla.magics import DaplaLineageMagics\n",
    "from IPython import get_ipython\n",
    "ipython = get_ipython()\n",
    "\n",
    "# Provide a mock template from attached json file\n",
    "import json\n",
    "def lineage_template_mock(spark_df, input_df_map):\n",
    "    with open('lineage-template.json', 'r') as f:\n",
    "        return json.load(f)\n",
    "\n",
    "# Register dapla magics manually\n",
    "magics = DaplaLineageMagics(ipython, lineage_template_mock)\n",
    "ipython.register_magics(magics)"
   ]
  },
  {
   "cell_type": "code",
   "execution_count": 3,
   "metadata": {
    "pycharm": {
     "name": "#%%\n"
    }
   },
   "outputs": [],
   "source": [
    "from pyspark.sql.types import *\n",
    "\n",
    "# Create 2 test dataframe\n",
    "person_type = StructType([\n",
    "    StructField('personidentifikator', StringType()),\n",
    "    StructField('kontonummer', StringType())])\n",
    "person_data = [\n",
    "    ('1234', '12345555'),\n",
    "    ('1235', '12347777'),\n",
    "]\n",
    "person = spark.createDataFrame(person_data, person_type)\n",
    "\n",
    "konto_type = StructType([\n",
    "    StructField('kontonummer', StringType()),\n",
    "    StructField('innskudd', IntegerType())])\n",
    "konto_data = [\n",
    "    ('12345555', 25000),\n",
    "    ('12347777', 120000),\n",
    "]\n",
    "konto = spark.createDataFrame(konto_data, konto_type)\n",
    "\n",
    "# Create a 3rd dataframe based on the other two\n",
    "innskudd = person.join(konto, 'kontonummer', how='inner')"
   ]
  },
  {
   "cell_type": "code",
   "execution_count": 12,
   "metadata": {
    "pycharm": {
     "name": "#%%\n"
    }
   },
   "outputs": [
    {
     "name": "stdout",
     "output_type": "stream",
     "text": [
      "{}\n",
      "/\n",
      "{}\n",
      "/\n"
     ]
    }
   ],
   "source": [
    "# This will be done automatically by spark.read.path\n",
    "\n",
    "%lineage_input /skatt/person {person.schema.json()}\n",
    "%lineage_input /skatt/konto {konto.schema.json()}"
   ]
  },
  {
   "cell_type": "code",
   "execution_count": null,
   "metadata": {
    "pycharm": {
     "name": "#%%\n"
    }
   },
   "outputs": [],
   "source": [
    "# This will be done automatically by spark.read.path\n",
    "%lineage_output /skatt/innskudd {innskudd.schema.json()}"
   ]
  },
  {
   "cell_type": "code",
   "execution_count": 13,
   "metadata": {
    "pycharm": {
     "name": "#%%\n"
    }
   },
   "outputs": [],
   "source": []
  },
  {
   "cell_type": "code",
   "execution_count": 9,
   "metadata": {
    "pycharm": {
     "name": "#%%\n"
    }
   },
   "outputs": [
    {
     "name": "stdout",
     "output_type": "stream",
     "text": [
      "Input datasets:\n",
      " |-- /skatt/person\n",
      "Output datasets:\n",
      " |-- \n"
     ]
    }
   ],
   "source": [
    "%lineage_tree"
   ]
  },
  {
   "cell_type": "code",
   "execution_count": 8,
   "metadata": {},
   "outputs": [
    {
     "name": "stdout",
     "output_type": "stream",
     "text": [
      "root\n",
      " |-- kontonummer: string (nullable = true)\n",
      " |-- personidentifikator: string (nullable = true)\n",
      " |-- innskudd: integer (nullable = true)\n",
      "\n"
     ]
    }
   ],
   "source": [
    "innskudd.printSchema()"
   ]
  },
  {
   "cell_type": "code",
   "execution_count": null,
   "outputs": [],
   "source": [],
   "metadata": {
    "collapsed": false,
    "pycharm": {
     "name": "#%%\n"
    }
   }
  },
  {
   "cell_type": "code",
   "execution_count": null,
   "metadata": {},
   "outputs": [],
   "source": []
  }
 ],
 "metadata": {
  "kernelspec": {
   "display_name": "Python 3",
   "language": "python",
   "name": "python3"
  },
  "language_info": {
   "codemirror_mode": {
    "name": "ipython",
    "version": 3
   },
   "file_extension": ".py",
   "mimetype": "text/x-python",
   "name": "python",
   "nbconvert_exporter": "python",
   "pygments_lexer": "ipython3",
   "version": "3.8.5"
  }
 },
 "nbformat": 4,
 "nbformat_minor": 1
}