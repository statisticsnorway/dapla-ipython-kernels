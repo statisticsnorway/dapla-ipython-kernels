{
 "cells": [
  {
   "cell_type": "code",
   "execution_count": 1,
   "metadata": {},
   "outputs": [],
   "source": [
    "# This should be set by Pyspark\n",
    "from pyspark.sql import SparkSession\n",
    "spark = SparkSession.builder.config(\"spark.ui.enabled\", False).getOrCreate()"
   ]
  },
  {
   "cell_type": "code",
   "execution_count": 2,
   "metadata": {
    "pycharm": {
     "name": "#%%\n"
    }
   },
   "outputs": [],
   "source": [
    "# Initialise test environment\n",
    "from dapla.magics import DaplaLineageMagics\n",
    "from IPython import get_ipython\n",
    "ipython = get_ipython()\n",
    "from dapla.jupyterextensions.authextension import AuthClient\n",
    "import requests\n",
    "\n",
    "# Provide a mock template from attached json file\n",
    "import json\n",
    "def lineage_template_mock(output_schema, input_schema_map):\n",
    "    def mapper(x):\n",
    "        return (x[0], {\n",
    "            \"schema\": x[1]['schema'],\n",
    "            \"schemaType\": \"SPARK\",\n",
    "            \"timestamp\": x[1]['timestamp'],\n",
    "        })\n",
    "    request = {\n",
    "        \"schema\": output_schema['schema'],\n",
    "        \"timestamp\": output_schema['timestamp'],\n",
    "        \"schemaType\": \"SPARK\",\n",
    "        \"simpleLineage\": False,\n",
    "        \"dependencies\": [dict(map(mapper, input_schema_map.items()))],\n",
    "    }\n",
    "#    with open('lineage-template.json', 'r') as f:\n",
    "#        return json.load(f)\n",
    "    response = requests.post('http://localhost:10190/lineage/template', json=request,\n",
    "                             headers={\n",
    "                             }, allow_redirects=False)\n",
    "    return response.json()\n",
    "    \n",
    "# Register dapla magics manually\n",
    "magics = DaplaLineageMagics(ipython, lineage_template_mock)\n",
    "ipython.register_magics(magics)"
   ]
  },
  {
   "cell_type": "code",
   "execution_count": 3,
   "metadata": {
    "pycharm": {
     "name": "#%%\n"
    }
   },
   "outputs": [],
   "source": [
    "from pyspark.sql.types import *\n",
    "\n",
    "# Create 3 test dataframe\n",
    "person_type = StructType([\n",
    "    StructField('personidentifikator', StringType()),\n",
    "    StructField('kontonummer', StringType())])\n",
    "person_data = [\n",
    "    ('1234', '12345555'),\n",
    "    ('1235', '12347777'),\n",
    "]\n",
    "person = spark.createDataFrame(person_data, person_type)\n",
    "\n",
    "unrelated_type = StructType([\n",
    "    StructField('weird', StringType()),\n",
    "    StructField('stuff', StringType())])\n",
    "unrelated = spark.createDataFrame([], unrelated_type)\n",
    "\n",
    "\n",
    "konto_type = StructType([\n",
    "    StructField('kontonummer', StringType()),\n",
    "    StructField('innskudd', IntegerType())])\n",
    "konto_data = [\n",
    "    ('12345555', 25000),\n",
    "    ('12347777', 120000),\n",
    "]\n",
    "konto = spark.createDataFrame(konto_data, konto_type)\n",
    "\n",
    "# Create a 3rd dataframe based on the other two\n",
    "innskudd = person.join(konto, 'kontonummer', how='inner')"
   ]
  },
  {
   "cell_type": "code",
   "execution_count": 4,
   "metadata": {
    "pycharm": {
     "name": "#%%\n"
    }
   },
   "outputs": [],
   "source": [
    "# This will be done automatically by spark.read.path\n",
    "\n",
    "%lineage_input /skatt/person {person.schema.json()}\n",
    "%lineage_input /skatt/konto {konto.schema.json()}\n",
    "%lineage_input /skatt/unrelated {unrelated.schema.json()}"
   ]
  },
  {
   "cell_type": "code",
   "execution_count": 5,
   "metadata": {
    "pycharm": {
     "name": "#%%\n"
    }
   },
   "outputs": [],
   "source": [
    "# This will be done automatically by spark.write.path\n",
    "\n",
    "%lineage_output /skatt/innskudd {innskudd.schema.json()}"
   ]
  },
  {
   "cell_type": "code",
   "execution_count": 6,
   "metadata": {
    "pycharm": {
     "name": "#%%\n"
    }
   },
   "outputs": [
    {
     "name": "stdout",
     "output_type": "stream",
     "text": [
      "Input datasets:\n",
      " |-- /skatt/person\n",
      " |-- /skatt/konto\n",
      " |-- /skatt/unrelated\n",
      "Output datasets:\n",
      " |-- /skatt/innskudd\n"
     ]
    }
   ],
   "source": [
    "%lineage_tree"
   ]
  },
  {
   "cell_type": "code",
   "execution_count": 7,
   "metadata": {},
   "outputs": [
    {
     "data": {
      "application/vnd.jupyter.widget-view+json": {
       "model_id": "779e163a492b42048002ae544f34f4c7",
       "version_major": 2,
       "version_minor": 0
      },
      "text/plain": [
       "Accordion(children=(VBox(children=(HTML(value='<style>.widget-checkbox-label-bold > label > span {font-weight:…"
      ]
     },
     "metadata": {},
     "output_type": "display_data"
    }
   ],
   "source": [
    "# Show GUI for mapping lineage fields\n",
    "%lineage_fields innskudd"
   ]
  },
  {
   "cell_type": "code",
   "execution_count": 18,
   "metadata": {},
   "outputs": [
    {
     "data": {
      "text/plain": [
       "{'lineage': {'name': 'spark_schema',\n",
       "  'type': 'structure',\n",
       "  'fields': [{'name': 'kontonummer',\n",
       "    'type': 'inherited',\n",
       "    'confidence': 0.9,\n",
       "    'sources': [{'field': 'kontonummer',\n",
       "      'path': '/skatt/person',\n",
       "      'version': 1600771266157},\n",
       "     {'field': 'kontonummer',\n",
       "      'path': '/skatt/konto',\n",
       "      'version': 1600771266158}],\n",
       "    'selected': {'/skatt/person': ['kontonummer'],\n",
       "     '/skatt/konto': ['kontonummer']}},\n",
       "   {'name': 'personidentifikator',\n",
       "    'type': 'inherited',\n",
       "    'confidence': 0.9,\n",
       "    'sources': [{'field': 'personidentifikator',\n",
       "      'path': '/skatt/person',\n",
       "      'version': 1600771266157}],\n",
       "    'selected': {'/skatt/person': ['personidentifikator'],\n",
       "     '/skatt/unrelated': ['weird']}},\n",
       "   {'name': 'innskudd',\n",
       "    'type': 'inherited',\n",
       "    'confidence': 0.9,\n",
       "    'sources': [{'field': 'innskudd',\n",
       "      'path': '/skatt/konto',\n",
       "      'version': 1600771266158}]}],\n",
       "  'sources': [{'path': '/skatt/person', 'version': 1600771266157},\n",
       "   {'path': '/skatt/konto', 'version': 1600771266158},\n",
       "   {'path': '/skatt/unrelated', 'version': 1600771266158}]}}"
      ]
     },
     "execution_count": 18,
     "metadata": {},
     "output_type": "execute_result"
    }
   ],
   "source": [
    "innskudd.lineage"
   ]
  },
  {
   "cell_type": "code",
   "execution_count": 9,
   "metadata": {},
   "outputs": [
    {
     "data": {
      "text/plain": [
       "{'lineage': {'name': 'spark_schema',\n",
       "  'type': 'structure',\n",
       "  'fields': [{'name': 'kontonummer',\n",
       "    'type': 'inherited',\n",
       "    'confidence': 0.9,\n",
       "    'sources': [{'field': 'kontonummer',\n",
       "      'path': '/skatt/person',\n",
       "      'version': 1600771266157},\n",
       "     {'field': 'kontonummer',\n",
       "      'path': '/skatt/konto',\n",
       "      'version': 1600771266158}]},\n",
       "   {'name': 'personidentifikator',\n",
       "    'type': 'inherited',\n",
       "    'confidence': 0.9,\n",
       "    'sources': [{'field': 'personidentifikator',\n",
       "      'path': '/skatt/person',\n",
       "      'version': 1600771266157}]},\n",
       "   {'name': 'innskudd',\n",
       "    'type': 'inherited',\n",
       "    'confidence': 0.9,\n",
       "    'sources': [{'field': 'innskudd',\n",
       "      'path': '/skatt/konto',\n",
       "      'version': 1600771266158}]}],\n",
       "  'sources': [{'path': '/skatt/person', 'version': 1600771266157},\n",
       "   {'path': '/skatt/konto', 'version': 1600771266158},\n",
       "   {'path': '/skatt/unrelated', 'version': 1600771266158}]}}"
      ]
     },
     "execution_count": 9,
     "metadata": {},
     "output_type": "execute_result"
    }
   ],
   "source": [
    "# Return simple lineage template by path\n",
    "%lineage_json innskudd"
   ]
  },
  {
   "cell_type": "code",
   "execution_count": 10,
   "metadata": {},
   "outputs": [],
   "source": [
    "\n",
    "import ipywidgets as widgets\n",
    "form_item_layout = widgets.Layout(\n",
    "    display='flex',\n",
    "    flex_flow='row',\n",
    "    justify_content='space-between'\n",
    ")\n",
    "form_items = []\n",
    "\n",
    "for field in innskudd.lineage['lineage']['fields']:\n",
    "    form_items.append(widgets.Box([widgets.Label(value=field['name']), \n",
    "                                   widgets.Dropdown()],\n",
    "                                layout=form_item_layout))\n",
    "    \n",
    "    "
   ]
  },
  {
   "cell_type": "code",
   "execution_count": 11,
   "metadata": {},
   "outputs": [
    {
     "data": {
      "text/plain": [
       "[{'name': 'kontonummer',\n",
       "  'type': 'inherited',\n",
       "  'confidence': 0.9,\n",
       "  'sources': [{'field': 'kontonummer',\n",
       "    'path': '/skatt/person',\n",
       "    'version': 1600771266157},\n",
       "   {'field': 'kontonummer',\n",
       "    'path': '/skatt/konto',\n",
       "    'version': 1600771266158}]},\n",
       " {'name': 'personidentifikator',\n",
       "  'type': 'inherited',\n",
       "  'confidence': 0.9,\n",
       "  'sources': [{'field': 'personidentifikator',\n",
       "    'path': '/skatt/person',\n",
       "    'version': 1600771266157}]},\n",
       " {'name': 'innskudd',\n",
       "  'type': 'inherited',\n",
       "  'confidence': 0.9,\n",
       "  'sources': [{'field': 'innskudd',\n",
       "    'path': '/skatt/konto',\n",
       "    'version': 1600771266158}]}]"
      ]
     },
     "execution_count": 11,
     "metadata": {},
     "output_type": "execute_result"
    }
   ],
   "source": [
    "innskudd.lineage['lineage']['fields']"
   ]
  },
  {
   "cell_type": "code",
   "execution_count": 12,
   "metadata": {},
   "outputs": [],
   "source": [
    "import pandas as pd"
   ]
  },
  {
   "cell_type": "code",
   "execution_count": 13,
   "metadata": {},
   "outputs": [
    {
     "data": {
      "application/vnd.jupyter.widget-view+json": {
       "model_id": "dd31499440b7402bb14c2eb0f1a6b651",
       "version_major": 2,
       "version_minor": 0
      },
      "text/plain": [
       "Combobox(value='', description='Combobox:', ensure_option=True, options=('Paul', 'John', 'George', 'Ringo'), p…"
      ]
     },
     "metadata": {},
     "output_type": "display_data"
    }
   ],
   "source": [
    "\n",
    "widgets.Combobox(\n",
    "    # value='John',\n",
    "    placeholder='Choose Someone',\n",
    "    options=['Paul', 'John', 'George', 'Ringo'],\n",
    "    description='Combobox:',\n",
    "    ensure_option=True,\n",
    "    disabled=False\n",
    ")"
   ]
  },
  {
   "cell_type": "code",
   "execution_count": 14,
   "metadata": {},
   "outputs": [
    {
     "data": {
      "text/plain": [
       "[StructField(personidentifikator,StringType,true),\n",
       " StructField(kontonummer,StringType,true)]"
      ]
     },
     "execution_count": 14,
     "metadata": {},
     "output_type": "execute_result"
    }
   ],
   "source": [
    "person.schema.fields"
   ]
  },
  {
   "cell_type": "code",
   "execution_count": 15,
   "metadata": {},
   "outputs": [
    {
     "ename": "AttributeError",
     "evalue": "'StructField' object has no attribute 'keys'",
     "output_type": "error",
     "traceback": [
      "\u001b[0;31m---------------------------------------------------------------------------\u001b[0m",
      "\u001b[0;31mAttributeError\u001b[0m                            Traceback (most recent call last)",
      "\u001b[0;32m<ipython-input-15-fc5e43203a08>\u001b[0m in \u001b[0;36m<module>\u001b[0;34m\u001b[0m\n\u001b[0;32m----> 1\u001b[0;31m \u001b[0minnskudd\u001b[0m\u001b[0;34m.\u001b[0m\u001b[0mschema\u001b[0m\u001b[0;34m.\u001b[0m\u001b[0mfields\u001b[0m\u001b[0;34m[\u001b[0m\u001b[0;36m0\u001b[0m\u001b[0;34m]\u001b[0m\u001b[0;34m.\u001b[0m\u001b[0mkeys\u001b[0m\u001b[0;34m(\u001b[0m\u001b[0;34m)\u001b[0m\u001b[0;34m\u001b[0m\u001b[0;34m\u001b[0m\u001b[0m\n\u001b[0m",
      "\u001b[0;31mAttributeError\u001b[0m: 'StructField' object has no attribute 'keys'"
     ]
    }
   ],
   "source": [
    "innskudd.schema.fields[0].keys()"
   ]
  },
  {
   "cell_type": "code",
   "execution_count": null,
   "metadata": {},
   "outputs": [],
   "source": [
    "for k,v in input_datasets.items():\n",
    "    print(v)"
   ]
  },
  {
   "cell_type": "code",
   "execution_count": null,
   "metadata": {},
   "outputs": [],
   "source": [
    "w = widgets.Checkbox(description='description')"
   ]
  },
  {
   "cell_type": "code",
   "execution_count": null,
   "metadata": {},
   "outputs": [],
   "source": [
    "w = widgets.Checkbox(description=\"Title\")\n",
    "w.add_class(\"mytext\")\n",
    "w"
   ]
  },
  {
   "cell_type": "code",
   "execution_count": null,
   "metadata": {},
   "outputs": [],
   "source": [
    "%%html\n",
    "<style>\n",
    ".mytext > .widget-label {\n",
    "    font-style: italic;\n",
    "    color: blue;\n",
    "    font-size: 30px;\n",
    "}\n",
    ".mytext span {\n",
    "    font-size: 50px;\n",
    "    font-weight: bold;\n",
    "}\n",
    "</style>"
   ]
  },
  {
   "cell_type": "code",
   "execution_count": null,
   "metadata": {},
   "outputs": [],
   "source": [
    "%%html\n",
    "<style>\n",
    ".widget-label_bold > label > span {\n",
    "    font-weight: bold;\n",
    "}\n",
    "</style>"
   ]
  },
  {
   "cell_type": "code",
   "execution_count": null,
   "metadata": {},
   "outputs": [],
   "source": [
    "def on_value_change(change):\n",
    "    print(change)\n",
    "        \n",
    "\n",
    "w.observe(on_value_change, names='value')\n",
    "w"
   ]
  },
  {
   "cell_type": "code",
   "execution_count": null,
   "metadata": {},
   "outputs": [],
   "source": []
  }
 ],
 "metadata": {
  "kernelspec": {
   "display_name": "Python 3",
   "language": "python",
   "name": "python3"
  },
  "language_info": {
   "codemirror_mode": {
    "name": "ipython",
    "version": 3
   },
   "file_extension": ".py",
   "mimetype": "text/x-python",
   "name": "python",
   "nbconvert_exporter": "python",
   "pygments_lexer": "ipython3",
   "version": "3.8.5"
  }
 },
 "nbformat": 4,
 "nbformat_minor": 1
}
