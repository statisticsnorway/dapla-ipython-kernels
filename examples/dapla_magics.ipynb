{
 "cells": [
  {
   "cell_type": "code",
   "execution_count": 1,
   "metadata": {
    "collapsed": true
   },
   "outputs": [],
   "source": [
    "# This should be set by Pyspark\n",
    "from pyspark.sql import SparkSession\n",
    "spark = SparkSession.builder.config(\"spark.ui.enabled\", False).getOrCreate()"
   ]
  },
  {
   "cell_type": "code",
   "execution_count": 2,
   "outputs": [],
   "source": [
    "# Initialise test environment\n",
    "from dapla.magics.documentation import DaplaDocumentationMagics\n",
    "from IPython import get_ipython\n",
    "ipython = get_ipython()\n",
    "\n",
    "# Provide a mock template from attached json file\n",
    "def doc_template_mock(ds, use_simple):\n",
    "    with open('template.json', 'r') as f:\n",
    "        return f.read()\n",
    "\n",
    "# Register dapla magics manually\n",
    "magics = DaplaDocumentationMagics(ipython, doc_template_mock)\n",
    "ipython.register_magics(magics)"
   ],
   "metadata": {
    "collapsed": false,
    "pycharm": {
     "name": "#%%\n"
    }
   }
  },
  {
   "cell_type": "code",
   "execution_count": 3,
   "outputs": [],
   "source": [
    "# Create a test dataframe\n",
    "from pyspark.sql.types import *\n",
    "konto_type = StructType([\n",
    "    StructField('kontonummer', StringType()),\n",
    "    StructField('innskudd', IntegerType()),\n",
    "    StructField('gjeld', IntegerType())])\n",
    "konto_data = [\n",
    "    ('12345555', 25000, 0),\n",
    "    ('12347777', 120000, 500),\n",
    "]\n",
    "\n",
    "konto = spark.createDataFrame(konto_data, konto_type)"
   ],
   "metadata": {
    "collapsed": false,
    "pycharm": {
     "name": "#%%\n"
    }
   }
  },
  {
   "cell_type": "code",
   "execution_count": 6,
   "outputs": [
    {
     "data": {
      "text/plain": "HTML(value='<b>Dataset metadata</b>')",
      "application/vnd.jupyter.widget-view+json": {
       "version_major": 2,
       "version_minor": 0,
       "model_id": "27fe80611e41498c81199ed0ce6b9a9b"
      }
     },
     "metadata": {},
     "output_type": "display_data"
    },
    {
     "data": {
      "text/plain": "Box(children=(Box(children=(Label(value='Name'), Text(value='konto datasett demo')), layout=Layout(display='fl…",
      "application/vnd.jupyter.widget-view+json": {
       "version_major": 2,
       "version_minor": 0,
       "model_id": "745a6abbde8347018b3581f30e6e8890"
      }
     },
     "metadata": {},
     "output_type": "display_data"
    },
    {
     "data": {
      "text/plain": "HTML(value='<b>Instance variables</b>')",
      "application/vnd.jupyter.widget-view+json": {
       "version_major": 2,
       "version_minor": 0,
       "model_id": "1ad732c1f09e4b71b6b9eb960bdb456f"
      }
     },
     "metadata": {},
     "output_type": "display_data"
    },
    {
     "data": {
      "text/plain": "Accordion(children=(Box(children=(Box(children=(Label(value='Description'), Textarea(value='vilkårlig lang sek…",
      "application/vnd.jupyter.widget-view+json": {
       "version_major": 2,
       "version_minor": 0,
       "model_id": "cb8b751991494fa8a055c69d5de3867f"
      }
     },
     "metadata": {},
     "output_type": "display_data"
    },
    {
     "data": {
      "text/plain": "Button(description='Save to file', icon='file-code', style=ButtonStyle())",
      "application/vnd.jupyter.widget-view+json": {
       "version_major": 2,
       "version_minor": 0,
       "model_id": "ad8d1a0f501f442ca2f9ca2ac7e7e7aa"
      }
     },
     "metadata": {},
     "output_type": "display_data"
    },
    {
     "data": {
      "text/plain": "Output()",
      "application/vnd.jupyter.widget-view+json": {
       "version_major": 2,
       "version_minor": 0,
       "model_id": "8bca0673d5db41e38f977375773e93be"
      }
     },
     "metadata": {},
     "output_type": "display_data"
    }
   ],
   "source": [
    "# Now run the magic\n",
    "%document -f result.json konto"
   ],
   "metadata": {
    "collapsed": false,
    "pycharm": {
     "name": "#%%\n"
    }
   }
  },
  {
   "cell_type": "code",
   "execution_count": 5,
   "outputs": [
    {
     "data": {
      "text/plain": "{'name': 'konto datasett demo',\n 'description': 'Inneholder kontoer av forskjellig art.',\n 'unitType': {'concept-type': 'UnitType',\n  'selected-id': 'UnitType_DUMMY',\n  'candidates': [{'id': 'some-id-could-be-guid', 'name': 'Heltall'},\n   {'id': 'UnitType_DUMMY', 'name': 'UnitType_default'}]},\n 'instanceVariables': [{'name': 'kontonummer',\n   'description': 'vilkårlig lang sekvens av tegn inkludert aksenter og spesielle tegn fra standardiserte tegnsett',\n   'identifierComponentIsComposite': False,\n   'identifierComponentIsUnique': False,\n   'dataStructureComponentRole': {'selected-enum': 'ENTITY',\n    'enums': ['ENTITY', 'IDENTITY', 'COUNT', 'TIME', 'GEO']},\n   'dataStructureComponentType': {'selected-enum': 'MEASURE',\n    'enums': ['IDENTIFIER', 'MEASURE', 'ATTRIBUTE']},\n   'population': {'concept-type': 'Population',\n    'selected-id': 'Population_DUMMY',\n    'candidates': [{'id': 'some-id-could-be-guid',\n      'name': 'All families 2018-01-01'},\n     {'id': 'Population_DUMMY', 'name': 'Population_default'}]},\n   'representedVariable': {'concept-type': 'RepresentedVariable',\n    'selected-id': 'RepresentedVariable_DUMMY',\n    'candidates': [{'id': 'some-id-could-be-guid',\n      'name': 'NationalFamilyIdentifier'},\n     {'id': 'RepresentedVariable_DUMMY',\n      'name': 'RepresentedVariable_default'}]},\n   'sentinelValueDomain': {'concept-type': 'EnumeratedValueDomain,DescribedValueDomain',\n    'selected-id': 'EnumeratedValueDomain_DUMMY-id',\n    'candidates': [{'id': 'EnumeratedValueDomain_DUMMY-id',\n      'name': 'EnumeratedValueDomain_default'},\n     {'id': 'some-id-could-be-guid', 'name': 'Heltall'},\n     {'id': 'DescribedValueDomain_DUMMY-id',\n      'name': 'DescribedValueDomain_DUMMY'}]}},\n  {'name': 'innskudd',\n   'description': '9 sifret nummer gitt de som er registrert i Enhetsregisteret.',\n   'identifierComponentIsComposite': False,\n   'identifierComponentIsUnique': False,\n   'dataStructureComponentRole': {'selected-enum': 'ENTITY',\n    'enums': ['ENTITY', 'IDENTITY', 'COUNT', 'TIME', 'GEO']},\n   'dataStructureComponentType': {'selected-enum': 'MEASURE',\n    'enums': ['IDENTIFIER', 'MEASURE', 'ATTRIBUTE']},\n   'population': {'concept-type': 'Population',\n    'selected-id': 'Population_DUMMY',\n    'candidates': [{'id': 'some-id-could-be-guid',\n      'name': 'All families 2018-01-01'},\n     {'id': 'Population_DUMMY', 'name': 'Population_default'}]},\n   'representedVariable': {'concept-type': 'RepresentedVariable',\n    'selected-id': 'RepresentedVariable_DUMMY',\n    'candidates': [{'id': 'some-id-could-be-guid',\n      'name': 'NationalFamilyIdentifier'},\n     {'id': 'RepresentedVariable_DUMMY',\n      'name': 'RepresentedVariable_default'}]},\n   'sentinelValueDomain': {'concept-type': 'EnumeratedValueDomain,DescribedValueDomain',\n    'selected-id': 'DescribedValueDomain_DUMMY-id',\n    'candidates': [{'id': 'EnumeratedValueDomain_DUMMY-id',\n      'name': 'EnumeratedValueDomain_default'},\n     {'id': 'some-id-could-be-guid', 'name': 'Heltall'},\n     {'id': 'DescribedValueDomain_DUMMY-id',\n      'name': 'DescribedValueDomain_DUMMY'}]}},\n  {'name': 'gjeld',\n   'description': 'en sum av penger i hele kroner brukt i en kontekst. Dette kan være en transaksjon, saldo o.l.',\n   'identifierComponentIsComposite': False,\n   'identifierComponentIsUnique': False,\n   'dataStructureComponentRole': {'selected-enum': 'ENTITY',\n    'enums': ['ENTITY', 'IDENTITY', 'COUNT', 'TIME', 'GEO']},\n   'dataStructureComponentType': {'selected-enum': 'MEASURE',\n    'enums': ['IDENTIFIER', 'MEASURE', 'ATTRIBUTE']},\n   'population': {'concept-type': 'Population',\n    'selected-id': 'Population_DUMMY',\n    'candidates': [{'id': 'some-id-could-be-guid',\n      'name': 'All families 2018-01-01'},\n     {'id': 'Population_DUMMY', 'name': 'Population_default'}]},\n   'representedVariable': {'concept-type': 'RepresentedVariable',\n    'selected-id': 'RepresentedVariable_DUMMY',\n    'candidates': [{'id': 'some-id-could-be-guid',\n      'name': 'NationalFamilyIdentifier'},\n     {'id': 'RepresentedVariable_DUMMY',\n      'name': 'RepresentedVariable_default'}]},\n   'sentinelValueDomain': {'concept-type': 'EnumeratedValueDomain,DescribedValueDomain',\n    'selected-id': 'EnumeratedValueDomain_DUMMY-id',\n    'candidates': [{'id': 'EnumeratedValueDomain_DUMMY-id',\n      'name': 'EnumeratedValueDomain_default'},\n     {'id': 'some-id-could-be-guid', 'name': 'Heltall'},\n     {'id': 'DescribedValueDomain_DUMMY-id',\n      'name': 'DescribedValueDomain_DUMMY'}]}}]}"
     },
     "execution_count": 5,
     "metadata": {},
     "output_type": "execute_result"
    }
   ],
   "source": [
    "konto.doc"
   ],
   "metadata": {
    "collapsed": false,
    "pycharm": {
     "name": "#%%\n"
    }
   }
  },
  {
   "cell_type": "code",
   "execution_count": 5,
   "outputs": [],
   "source": [],
   "metadata": {
    "collapsed": false,
    "pycharm": {
     "name": "#%%\n"
    }
   }
  }
 ],
 "metadata": {
  "kernelspec": {
   "display_name": "Python 3",
   "language": "python",
   "name": "python3"
  },
  "language_info": {
   "codemirror_mode": {
    "name": "ipython",
    "version": 2
   },
   "file_extension": ".py",
   "mimetype": "text/x-python",
   "name": "python",
   "nbconvert_exporter": "python",
   "pygments_lexer": "ipython2",
   "version": "2.7.6"
  }
 },
 "nbformat": 4,
 "nbformat_minor": 0
}